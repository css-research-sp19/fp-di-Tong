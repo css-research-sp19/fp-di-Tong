{
 "cells": [
  {
   "cell_type": "code",
   "execution_count": 25,
   "metadata": {},
   "outputs": [],
   "source": [
    "# import packages\n",
    "import pandas as pd\n",
    "import os\n",
    "import csv\n",
    "import numpy as np\n",
    "import gensim\n",
    "import gensim.corpora as corpora\n",
    "from gensim.models import ldaseqmodel\n",
    "import time\n",
    "from collections import Counter\n",
    "import pyLDAvis\n",
    "import pyLDAvis.gensim  \n",
    "import matplotlib.pyplot as plt\n",
    "import matplotlib.colors as mcolors"
   ]
  },
  {
   "cell_type": "code",
   "execution_count": 2,
   "metadata": {},
   "outputs": [],
   "source": [
    "# read in csv file\n",
    "all_data = pd.read_csv('./all_data.csv', header=None)\n",
    "# add columns\n",
    "all_data.columns = [\"year\", \"title\", \"article\"]\n",
    "# sort by year\n",
    "all_data = all_data.sort_values(by=['year'])\n",
    "# change index\n",
    "new_index = np.arange(0, len(all_data))\n",
    "all_data[\"new_index\"] = new_index\n",
    "all_data = all_data.set_index('new_index')"
   ]
  },
  {
   "cell_type": "code",
   "execution_count": 9,
   "metadata": {},
   "outputs": [],
   "source": [
    "# split for lda\n",
    "data_50s = all_data[all_data[\"year\"] < 1960]\n",
    "data_70s = all_data[(all_data[\"year\"] < 1979) & (all_data[\"year\"] > 1970)]\n",
    "data_80s = all_data[(all_data[\"year\"] < 1990) & (all_data[\"year\"] > 1979)]\n",
    "data_90s = all_data[all_data[\"year\"] > 1989]\n",
    "data_before_1979 = all_data[all_data[\"year\"] < 1979]"
   ]
  },
  {
   "cell_type": "code",
   "execution_count": 10,
   "metadata": {},
   "outputs": [],
   "source": [
    "# construct the stop word list\n",
    "stopwords = [line.strip() for line in open(\"stop_words_copy.txt\",encoding='UTF-8').readlines()]"
   ]
  },
  {
   "cell_type": "code",
   "execution_count": 11,
   "metadata": {},
   "outputs": [],
   "source": [
    "# construct the function that preprocess the text\n",
    "def preprocess(text):\n",
    "    '''\n",
    "    Preprocess the text by tokenizing the string into uni-grams, deleting all \n",
    "    numbers, punctuations and stop words. Store the preprocessed sting into \n",
    "    a list of words\n",
    "    \n",
    "    input: \n",
    "        text: text for preprocessing(str)\n",
    "    output: a list of words\n",
    "    '''\n",
    "    result = []\n",
    "    tokens = gensim.utils.tokenize(text)\n",
    "    tokens_lst = list(tokens)\n",
    "    for token in tokens_lst:\n",
    "        if token not in stopwords:\n",
    "            result.append(token)\n",
    "            \n",
    "    return result"
   ]
  },
  {
   "cell_type": "code",
   "execution_count": 12,
   "metadata": {},
   "outputs": [],
   "source": [
    "# preprocess the data\n",
    "processed_50s = data_50s['article'].map(preprocess)\n",
    "processed_70s = data_70s['article'].map(preprocess)\n",
    "processed_80s = data_80s['article'].map(preprocess)\n",
    "processed_90s = data_90s['article'].map(preprocess)\n",
    "processed_before_1979 = data_before_1979['article'].map(preprocess)"
   ]
  },
  {
   "cell_type": "code",
   "execution_count": 14,
   "metadata": {},
   "outputs": [],
   "source": [
    "# prepare Document-Term Matrix for the DTA model \n",
    "# Create Dictionaries for unique word counts of each decade\n",
    "dic_50s = corpora.Dictionary(processed_50s)\n",
    "dic_70s = corpora.Dictionary(processed_70s)\n",
    "dic_80s = corpora.Dictionary(processed_80s)\n",
    "dic_90s = corpora.Dictionary(processed_90s)\n",
    "dic_before_1979 = corpora.Dictionary(processed_before_1979)\n",
    "\n",
    "# Create Corpus: Term Document Frequency\n",
    "corpus_50s = [dic_50s.doc2bow(text) for text in processed_50s]\n",
    "corpus_70s = [dic_70s.doc2bow(text) for text in processed_70s]\n",
    "corpus_80s = [dic_80s.doc2bow(text) for text in processed_80s]\n",
    "corpus_90s = [dic_90s.doc2bow(text) for text in processed_90s]\n",
    "corpus_before_1979 = [dic_before_1979.doc2bow(text) for text in processed_before_1979]"
   ]
  },
  {
   "cell_type": "code",
   "execution_count": 15,
   "metadata": {},
   "outputs": [],
   "source": [
    "# Construct the function that builds the lda model with 10 topics\n",
    "def lda_model(corpus, dictionary):\n",
    "    '''\n",
    "    Build a lda model with 10 topics using the corpus and dictionary\n",
    "    imput:\n",
    "        corpus: the Term Document Frequency corpus used to build the mode\n",
    "        dictionary: a dictionary containing word counts of each unique word\n",
    "                    in the dataframe for each decade\n",
    "    output: a lda model object\n",
    "    '''\n",
    "    lda_model = gensim.models.ldamodel.LdaModel(corpus=corpus,\n",
    "                                           id2word=dictionary,\n",
    "                                           num_topics=5, \n",
    "                                           random_state=100,\n",
    "                                           update_every=1,\n",
    "                                           chunksize=10,\n",
    "                                           passes=10,\n",
    "                                           alpha='symmetric',\n",
    "                                           iterations=400,\n",
    "                                           per_word_topics=True)\n",
    "    return lda_model"
   ]
  },
  {
   "cell_type": "code",
   "execution_count": 17,
   "metadata": {},
   "outputs": [],
   "source": [
    "# build the LDA models for the four corpus\n",
    "lda_model_50 = lda_model(corpus_50s, dic_50s)"
   ]
  },
  {
   "cell_type": "code",
   "execution_count": 19,
   "metadata": {},
   "outputs": [],
   "source": [
    "lda_model_70 = lda_model(corpus_70s, dic_70s)"
   ]
  },
  {
   "cell_type": "code",
   "execution_count": 21,
   "metadata": {},
   "outputs": [],
   "source": [
    "lda_model_80 = lda_model(corpus_80s, dic_80s)"
   ]
  },
  {
   "cell_type": "code",
   "execution_count": 22,
   "metadata": {},
   "outputs": [],
   "source": [
    "lda_model_90 = lda_model(corpus_90s, dic_90s)"
   ]
  },
  {
   "cell_type": "code",
   "execution_count": 20,
   "metadata": {},
   "outputs": [],
   "source": [
    "lda_model_before_1979 = lda_model(corpus_before_1979, dic_before_1979)"
   ]
  },
  {
   "cell_type": "code",
   "execution_count": 41,
   "metadata": {},
   "outputs": [
    {
     "name": "stdout",
     "output_type": "stream",
     "text": [
      "[(0, '0.030*\"人口\" + 0.027*\"我国\" + 0.017*\"问题\" + 0.012*\"发展\" + 0.012*\"社会主义\" + 0.010*\"建设\" + 0.010*\"生产\" + 0.009*\"人民\" + 0.008*\"农业\" + 0.008*\"解决\"'), (1, '0.017*\"手术\" + 0.009*\"精管\" + 0.007*\"输\" + 0.005*\"结扎\" + 0.004*\"切断\" + 0.004*\"输精管\" + 0.004*\"精子\" + 0.004*\"怀孕\" + 0.004*\"例\" + 0.003*\"男子\"'), (2, '0.011*\"人工流产\" + 0.011*\"妇女\" + 0.010*\"工作\" + 0.008*\"避孕\" + 0.008*\"生育\" + 0.008*\"方法\" + 0.007*\"宣传\" + 0.007*\"人民\" + 0.006*\"子女\" + 0.006*\"结婚\"'), (3, '0.012*\"生产\" + 0.011*\"粮食\" + 0.010*\"斤\" + 0.009*\"农业社\" + 0.006*\"政府\" + 0.006*\"农书\" + 0.006*\"沁县\" + 0.005*\"创造\" + 0.005*\"地方\" + 0.004*\"娃娃\"'), (4, '0.019*\"人\" + 0.011*\"工业\" + 0.011*\"避孕\" + 0.010*\"农民\" + 0.010*\"工作\" + 0.010*\"生育\" + 0.009*\"人口\" + 0.009*\"生活\" + 0.009*\"增加\" + 0.007*\"积累\"')]\n"
     ]
    }
   ],
   "source": [
    "print(lda_model_50.print_topics())"
   ]
  },
  {
   "cell_type": "code",
   "execution_count": 56,
   "metadata": {},
   "outputs": [
    {
     "data": {
      "text/plain": [
       "[(0,\n",
       "  [('人口', 0.029983375),\n",
       "   ('我国', 0.027381515),\n",
       "   ('问题', 0.017086199),\n",
       "   ('发展', 0.012244429),\n",
       "   ('社会主义', 0.012056679),\n",
       "   ('建设', 0.010362741),\n",
       "   ('生产', 0.010130028),\n",
       "   ('人民', 0.009022748),\n",
       "   ('农业', 0.008496851),\n",
       "   ('解决', 0.0084353695),\n",
       "   ('人', 0.008381596),\n",
       "   ('新', 0.0083572),\n",
       "   ('劳动力', 0.0075627426),\n",
       "   ('矛盾', 0.007227686),\n",
       "   ('劳动', 0.0071650334),\n",
       "   ('中国', 0.0069509107),\n",
       "   ('社会', 0.0069457195),\n",
       "   ('技术', 0.0063755503),\n",
       "   ('企业', 0.0050276415),\n",
       "   ('提高', 0.004953002)]),\n",
       " (1,\n",
       "  [('手术', 0.016848965),\n",
       "   ('精管', 0.00853962),\n",
       "   ('输', 0.007411397),\n",
       "   ('结扎', 0.004595569),\n",
       "   ('切断', 0.0044636233),\n",
       "   ('输精管', 0.0040767626),\n",
       "   ('精子', 0.003950033),\n",
       "   ('怀孕', 0.0036933967),\n",
       "   ('例', 0.0035310853),\n",
       "   ('男子', 0.0034959528),\n",
       "   ('施行', 0.0034774814),\n",
       "   ('吻合', 0.0033120895),\n",
       "   ('断术', 0.0033120895),\n",
       "   ('输卵管', 0.003282606),\n",
       "   ('子宫', 0.003272223),\n",
       "   ('结扎切', 0.0029931176),\n",
       "   ('方法', 0.0026826807),\n",
       "   ('精液', 0.0026741459),\n",
       "   ('正常', 0.0026685924),\n",
       "   ('手段', 0.002546889)]),\n",
       " (2,\n",
       "  [('人工流产', 0.01110458),\n",
       "   ('妇女', 0.010716444),\n",
       "   ('工作', 0.010385653),\n",
       "   ('避孕', 0.008452684),\n",
       "   ('生育', 0.007560736),\n",
       "   ('方法', 0.0075188596),\n",
       "   ('宣传', 0.0071944874),\n",
       "   ('人民', 0.0069627664),\n",
       "   ('子女', 0.005869691),\n",
       "   ('结婚', 0.0056639677),\n",
       "   ('应该', 0.005438325),\n",
       "   ('国家', 0.005345992),\n",
       "   ('健康', 0.004626433),\n",
       "   ('手术', 0.004613488),\n",
       "   ('人口', 0.0046063443),\n",
       "   ('应', 0.004542901),\n",
       "   ('青年', 0.004501019),\n",
       "   ('提倡', 0.004229731),\n",
       "   ('研究', 0.0042195586),\n",
       "   ('亿', 0.004205852)]),\n",
       " (3,\n",
       "  [('生产', 0.01195451),\n",
       "   ('粮食', 0.010724308),\n",
       "   ('斤', 0.0104547255),\n",
       "   ('农业社', 0.009059245),\n",
       "   ('政府', 0.005944011),\n",
       "   ('沁县', 0.0056231916),\n",
       "   ('农书', 0.0056231916),\n",
       "   ('创造', 0.00500706),\n",
       "   ('地方', 0.0045766714),\n",
       "   ('娃娃', 0.0044701444),\n",
       "   ('土地', 0.0044509624),\n",
       "   ('水平仪', 0.004227253),\n",
       "   ('总结', 0.004147234),\n",
       "   ('下乡', 0.004063844),\n",
       "   ('万', 0.003860733),\n",
       "   ('机械', 0.003590241),\n",
       "   ('肥料', 0.0034665205),\n",
       "   ('人口论', 0.0034353402),\n",
       "   ('资金', 0.0031955026),\n",
       "   ('知识分子', 0.002997044)]),\n",
       " (4,\n",
       "  [('人', 0.01921437),\n",
       "   ('工业', 0.0114295725),\n",
       "   ('避孕', 0.010650742),\n",
       "   ('农民', 0.009837863),\n",
       "   ('工作', 0.009753814),\n",
       "   ('生育', 0.009641877),\n",
       "   ('人口', 0.00887007),\n",
       "   ('生活', 0.008727239),\n",
       "   ('增加', 0.008686996),\n",
       "   ('积累', 0.0066106054),\n",
       "   ('农业', 0.0065406584),\n",
       "   ('农村', 0.006228911),\n",
       "   ('元', 0.0061736354),\n",
       "   ('宣传', 0.0059462795),\n",
       "   ('一个', 0.005880851),\n",
       "   ('平均', 0.0058435397),\n",
       "   ('速度', 0.00578996),\n",
       "   ('国家', 0.0055015227),\n",
       "   ('问题', 0.005446923),\n",
       "   ('节育', 0.005443181)])]"
      ]
     },
     "execution_count": 56,
     "metadata": {},
     "output_type": "execute_result"
    }
   ],
   "source": [
    "topics_50 = lda_model_50.show_topics(num_words=20, formatted=False)\n",
    "topics_50"
   ]
  },
  {
   "cell_type": "code",
   "execution_count": 50,
   "metadata": {},
   "outputs": [
    {
     "name": "stdout",
     "output_type": "stream",
     "text": [
      "[(0, '0.027*\"南宫县\" + 0.009*\"劳力\" + 0.007*\"亩\" + 0.006*\"著作\" + 0.006*\"宣\" + 0.005*\"增强\" + 0.005*\"投入\" + 0.004*\"文章\" + 0.004*\"毛泽东思想\" + 0.004*\"挖\"'), (1, '0.048*\"人口\" + 0.015*\"国家\" + 0.015*\"问题\" + 0.013*\"人民\" + 0.013*\"世界\" + 0.012*\"经济\" + 0.012*\"会议\" + 0.009*\"增长\" + 0.009*\"发展\" + 0.007*\"超级大国\"'), (2, '0.042*\"计划生育\" + 0.034*\"工作\" + 0.011*\"人口\" + 0.010*\"主席\" + 0.008*\"群众\" + 0.008*\"计划\" + 0.007*\"革命\" + 0.007*\"妇女\" + 0.007*\"晚婚\" + 0.006*\"领导\"'), (3, '0.010*\"花\" + 0.007*\"社论\" + 0.007*\"墨西哥\" + 0.004*\"东方红\" + 0.004*\"洛阳\" + 0.004*\"拖拉机\" + 0.003*\"限制\" + 0.003*\"女孩\" + 0.003*\"爱人\" + 0.002*\"再生\"'), (4, '0.022*\"规律\" + 0.012*\"贯彻\" + 0.009*\"讨论会\" + 0.007*\"中央\" + 0.006*\"领袖\" + 0.006*\"影片\" + 0.005*\"晚恋\" + 0.005*\"导师\" + 0.005*\"恋爱\" + 0.005*\"话\"')]\n"
     ]
    }
   ],
   "source": [
    "print(lda_model_70.print_topics())"
   ]
  },
  {
   "cell_type": "code",
   "execution_count": 57,
   "metadata": {},
   "outputs": [
    {
     "data": {
      "text/plain": [
       "[(0,\n",
       "  [('南宫县', 0.026625857),\n",
       "   ('劳力', 0.008982818),\n",
       "   ('亩', 0.006524793),\n",
       "   ('著作', 0.0064261947),\n",
       "   ('宣', 0.006086845),\n",
       "   ('增强', 0.0048014196),\n",
       "   ('投入', 0.004577722),\n",
       "   ('文章', 0.004345359),\n",
       "   ('毛泽东思想', 0.0037854416),\n",
       "   ('挖', 0.0036452056),\n",
       "   ('土地', 0.0036449686),\n",
       "   ('排除', 0.0035570466),\n",
       "   ('蔡智荣', 0.0031561216),\n",
       "   ('掖县', 0.0031561216),\n",
       "   ('渠', 0.0030461876),\n",
       "   ('做出', 0.0030461876),\n",
       "   ('打井', 0.0030461876),\n",
       "   ('基本建设', 0.0030461876),\n",
       "   ('平整', 0.003046052),\n",
       "   ('培训', 0.003045806)]),\n",
       " (1,\n",
       "  [('人口', 0.048442792),\n",
       "   ('国家', 0.015451085),\n",
       "   ('问题', 0.015033153),\n",
       "   ('人民', 0.013439238),\n",
       "   ('世界', 0.013181374),\n",
       "   ('经济', 0.012336262),\n",
       "   ('会议', 0.0120567195),\n",
       "   ('增长', 0.008898049),\n",
       "   ('发展', 0.008698105),\n",
       "   ('超级大国', 0.0074340436),\n",
       "   ('政策', 0.0072192936),\n",
       "   ('代表', 0.006937335),\n",
       "   ('指出', 0.0068689235),\n",
       "   ('民族', 0.0067004752),\n",
       "   ('第三世界', 0.006303064),\n",
       "   ('一个', 0.005869952),\n",
       "   ('社会', 0.005696979),\n",
       "   ('代表团', 0.0056060012),\n",
       "   ('贫困', 0.005374575),\n",
       "   ('帝国主义', 0.0052314396)]),\n",
       " (2,\n",
       "  [('计划生育', 0.042325784),\n",
       "   ('工作', 0.03390669),\n",
       "   ('人口', 0.011030131),\n",
       "   ('主席', 0.009896702),\n",
       "   ('群众', 0.0084198145),\n",
       "   ('计划', 0.007500945),\n",
       "   ('革命', 0.00711247),\n",
       "   ('妇女', 0.0070341425),\n",
       "   ('晚婚', 0.0067022424),\n",
       "   ('领导', 0.0062573226),\n",
       "   ('发展', 0.0061266785),\n",
       "   ('宣传', 0.006013342),\n",
       "   ('实行', 0.005958156),\n",
       "   ('开展', 0.005926877),\n",
       "   ('提高', 0.005871073),\n",
       "   ('毛', 0.0058589163),\n",
       "   ('生育', 0.005800072),\n",
       "   ('思想', 0.00575733),\n",
       "   ('抓', 0.00533565),\n",
       "   ('新', 0.005270281)]),\n",
       " (3,\n",
       "  [('花', 0.009995045),\n",
       "   ('社论', 0.0068241195),\n",
       "   ('墨西哥', 0.0066965083),\n",
       "   ('东方红', 0.0039381445),\n",
       "   ('洛阳', 0.0039381445),\n",
       "   ('拖拉机', 0.0039381445),\n",
       "   ('限制', 0.0034675545),\n",
       "   ('女孩', 0.0031975165),\n",
       "   ('爱人', 0.0030209213),\n",
       "   ('男孩', 0.0021516592),\n",
       "   ('再生', 0.0021516592),\n",
       "   ('忆苦思甜', 0.002101329),\n",
       "   ('卖', 0.0021013054),\n",
       "   ('江玉珍', 0.0021013054),\n",
       "   ('哥', 0.0021013054),\n",
       "   ('全家', 0.0021013054),\n",
       "   ('逃往', 0.0021013054),\n",
       "   ('新闻报', 0.002098136),\n",
       "   ('二十三日', 0.002098136),\n",
       "   ('国民报', 0.002098136)]),\n",
       " (4,\n",
       "  [('规律', 0.021776455),\n",
       "   ('贯彻', 0.011566384),\n",
       "   ('讨论会', 0.008694982),\n",
       "   ('中央', 0.0068778056),\n",
       "   ('领袖', 0.005920521),\n",
       "   ('影片', 0.005564411),\n",
       "   ('晚恋', 0.004790716),\n",
       "   ('导师', 0.0045943386),\n",
       "   ('恋爱', 0.0045927153),\n",
       "   ('话', 0.0045364294),\n",
       "   ('京', 0.004424429),\n",
       "   ('侧面', 0.004424429),\n",
       "   ('建议', 0.004424429),\n",
       "   ('区别', 0.004424429),\n",
       "   ('本质', 0.004424429),\n",
       "   ('关', 0.0041388227),\n",
       "   ('相应', 0.004043742),\n",
       "   ('我县', 0.0040195743),\n",
       "   ('上钢', 0.0040175477),\n",
       "   ('地委', 0.004015796)])]"
      ]
     },
     "execution_count": 57,
     "metadata": {},
     "output_type": "execute_result"
    }
   ],
   "source": [
    "topics_70 = lda_model_70.show_topics(num_words=20, formatted=False)\n",
    "topics_70"
   ]
  },
  {
   "cell_type": "code",
   "execution_count": 43,
   "metadata": {},
   "outputs": [
    {
     "name": "stdout",
     "output_type": "stream",
     "text": [
      "[(0, '0.031*\"计划生育\" + 0.029*\"人口\" + 0.013*\"问题\" + 0.011*\"发展\" + 0.011*\"人民\" + 0.010*\"我国\" + 0.008*\"社会主义\" + 0.008*\"国家\" + 0.007*\"会议\" + 0.007*\"新\"'), (1, '0.040*\"工作\" + 0.014*\"妇女\" + 0.011*\"避孕\" + 0.011*\"宣传\" + 0.009*\"思想\" + 0.009*\"群众\" + 0.008*\"学习\" + 0.007*\"开展\" + 0.007*\"领导\" + 0.007*\"大队\"'), (2, '0.015*\"超级大国\" + 0.013*\"第三世界\" + 0.012*\"代表团\" + 0.008*\"发展中国家\" + 0.007*\"团长\" + 0.007*\"殖民主义\" + 0.006*\"掠夺\" + 0.006*\"反帝\" + 0.005*\"文件\" + 0.005*\"经济\"'), (3, '0.035*\"人口\" + 0.022*\"规律\" + 0.021*\"理论\" + 0.014*\"科学\" + 0.013*\"人\" + 0.012*\"研究\" + 0.011*\"问题\" + 0.010*\"认为\" + 0.009*\"能够\" + 0.009*\"讨论会\"'), (4, '0.012*\"农业\" + 0.010*\"农民\" + 0.009*\"生产\" + 0.009*\"粮食\" + 0.007*\"斤\" + 0.006*\"工业\" + 0.005*\"亩\" + 0.004*\"亿\" + 0.004*\"万\" + 0.004*\"农业社\"')]\n"
     ]
    }
   ],
   "source": [
    "print(lda_model_before_1979.print_topics())"
   ]
  },
  {
   "cell_type": "code",
   "execution_count": 58,
   "metadata": {},
   "outputs": [
    {
     "data": {
      "text/plain": [
       "[(0,\n",
       "  [('计划生育', 0.031333283),\n",
       "   ('人口', 0.029307844),\n",
       "   ('问题', 0.0130068315),\n",
       "   ('发展', 0.010645809),\n",
       "   ('人民', 0.010525866),\n",
       "   ('我国', 0.009802612),\n",
       "   ('社会主义', 0.0079320995),\n",
       "   ('国家', 0.007732386),\n",
       "   ('会议', 0.0072635366),\n",
       "   ('新', 0.007173345),\n",
       "   ('生产', 0.0071599386),\n",
       "   ('增长', 0.006856722),\n",
       "   ('人', 0.006297874),\n",
       "   ('计划', 0.006162719),\n",
       "   ('主席', 0.006048317),\n",
       "   ('提高', 0.0059067765),\n",
       "   ('工作', 0.0055863173),\n",
       "   ('方针', 0.005350739),\n",
       "   ('革命', 0.005208355),\n",
       "   ('批判', 0.005090502)]),\n",
       " (1,\n",
       "  [('工作', 0.03955008),\n",
       "   ('妇女', 0.013563322),\n",
       "   ('避孕', 0.010935858),\n",
       "   ('宣传', 0.010863483),\n",
       "   ('思想', 0.008702922),\n",
       "   ('群众', 0.00857301),\n",
       "   ('学习', 0.007632315),\n",
       "   ('开展', 0.0073584435),\n",
       "   ('领导', 0.007349251),\n",
       "   ('大队', 0.006806572),\n",
       "   ('实行', 0.0067606834),\n",
       "   ('节育', 0.0067498772),\n",
       "   ('深入', 0.006593015),\n",
       "   ('生育', 0.006136796),\n",
       "   ('抓', 0.006041844),\n",
       "   ('女', 0.0056223106),\n",
       "   ('健康', 0.0051968126),\n",
       "   ('干部', 0.0049642418),\n",
       "   ('全县', 0.0048526935),\n",
       "   ('手术', 0.004837872)]),\n",
       " (2,\n",
       "  [('超级大国', 0.014987741),\n",
       "   ('第三世界', 0.01282913),\n",
       "   ('代表团', 0.011775687),\n",
       "   ('发展中国家', 0.007575311),\n",
       "   ('团长', 0.0071938066),\n",
       "   ('殖民主义', 0.0067847027),\n",
       "   ('掠夺', 0.0063358685),\n",
       "   ('反帝', 0.0058095534),\n",
       "   ('文件', 0.005350408),\n",
       "   ('经济', 0.0051681),\n",
       "   ('主权', 0.004503743),\n",
       "   ('侵略', 0.004451982),\n",
       "   ('国际', 0.004366297),\n",
       "   ('八月', 0.004071317),\n",
       "   ('秩序', 0.0038584713),\n",
       "   ('反霸', 0.0036612023),\n",
       "   ('发达', 0.003388115),\n",
       "   ('干涉', 0.0033751545),\n",
       "   ('驳斥', 0.0033529561),\n",
       "   ('发表', 0.003065064)]),\n",
       " (3,\n",
       "  [('人口', 0.035381656),\n",
       "   ('规律', 0.022065762),\n",
       "   ('理论', 0.02052168),\n",
       "   ('科学', 0.014129079),\n",
       "   ('人', 0.01316763),\n",
       "   ('研究', 0.011508573),\n",
       "   ('问题', 0.01139148),\n",
       "   ('认为', 0.009886751),\n",
       "   ('能够', 0.008830682),\n",
       "   ('讨论会', 0.008690398),\n",
       "   ('贯彻', 0.0084160045),\n",
       "   ('一个', 0.007997468),\n",
       "   ('经济', 0.007806292),\n",
       "   ('工作', 0.007704911),\n",
       "   ('速度', 0.007311147),\n",
       "   ('中央', 0.0066822176),\n",
       "   ('提高', 0.0066229887),\n",
       "   ('保证', 0.00651232),\n",
       "   ('进一步', 0.0064424146),\n",
       "   ('同志', 0.006336044)]),\n",
       " (4,\n",
       "  [('农业', 0.011615484),\n",
       "   ('农民', 0.010183699),\n",
       "   ('生产', 0.008823753),\n",
       "   ('粮食', 0.008769545),\n",
       "   ('斤', 0.006865996),\n",
       "   ('工业', 0.00637492),\n",
       "   ('亩', 0.0047765453),\n",
       "   ('亿', 0.0040054503),\n",
       "   ('万', 0.0038924015),\n",
       "   ('农业社', 0.0038455436),\n",
       "   ('创造', 0.003325982),\n",
       "   ('太', 0.0031345363),\n",
       "   ('资金', 0.0030613479),\n",
       "   ('土地', 0.0030597108),\n",
       "   ('种', 0.0030195292),\n",
       "   ('重工业', 0.0023344508),\n",
       "   ('农书', 0.0021736927),\n",
       "   ('儿子', 0.0021691774),\n",
       "   ('娃娃', 0.0021023601),\n",
       "   ('人员', 0.0020688688)])]"
      ]
     },
     "execution_count": 58,
     "metadata": {},
     "output_type": "execute_result"
    }
   ],
   "source": [
    "topics_before_1979 = lda_model_before_1979.show_topics(num_words=20, formatted=False)\n",
    "topics_before_1979"
   ]
  },
  {
   "cell_type": "code",
   "execution_count": 44,
   "metadata": {},
   "outputs": [
    {
     "name": "stdout",
     "output_type": "stream",
     "text": [
      "[(0, '0.043*\"人口\" + 0.017*\"我国\" + 0.013*\"人\" + 0.013*\"万\" + 0.013*\"增长\" + 0.011*\"生育\" + 0.009*\"家庭\" + 0.009*\"少\" + 0.009*\"亿\" + 0.009*\"人均\"'), (1, '0.017*\"人\" + 0.017*\"元\" + 0.015*\"生\" + 0.010*\"村\" + 0.007*\"没\" + 0.007*\"一个\" + 0.007*\"孩子\" + 0.006*\"没有\" + 0.006*\"老\" + 0.005*\"保险\"'), (2, '0.085*\"人口\" + 0.020*\"中国\" + 0.017*\"发展\" + 0.014*\"国家\" + 0.014*\"问题\" + 0.013*\"世界\" + 0.013*\"增长\" + 0.012*\"经济\" + 0.012*\"社会\" + 0.011*\"控制\"'), (3, '0.015*\"节育\" + 0.009*\"国内\" + 0.008*\"研究\" + 0.008*\"手术\" + 0.006*\"上海\" + 0.006*\"科学\" + 0.006*\"医院\" + 0.005*\"余\" + 0.005*\"绝育\" + 0.004*\"组织\"'), (4, '0.057*\"计划生育\" + 0.030*\"工作\" + 0.010*\"生育\" + 0.010*\"群众\" + 0.010*\"干部\" + 0.009*\"政策\" + 0.007*\"部门\" + 0.006*\"超生\" + 0.006*\"管理\" + 0.006*\"计划\"')]\n"
     ]
    }
   ],
   "source": [
    "print(lda_model_80.print_topics())"
   ]
  },
  {
   "cell_type": "code",
   "execution_count": 59,
   "metadata": {},
   "outputs": [
    {
     "data": {
      "text/plain": [
       "[(0,\n",
       "  [('人口', 0.042613495),\n",
       "   ('我国', 0.017167678),\n",
       "   ('人', 0.013266158),\n",
       "   ('万', 0.01315498),\n",
       "   ('增长', 0.012973324),\n",
       "   ('生育', 0.011200255),\n",
       "   ('家庭', 0.009206722),\n",
       "   ('少', 0.008646658),\n",
       "   ('亿', 0.008554633),\n",
       "   ('人均', 0.008512276),\n",
       "   ('增加', 0.00825995),\n",
       "   ('控制', 0.007887161),\n",
       "   ('出生', 0.0076579284),\n",
       "   ('一个', 0.0067773503),\n",
       "   ('经济', 0.00639266),\n",
       "   ('政策', 0.006112619),\n",
       "   ('占', 0.0058705974),\n",
       "   ('孩子', 0.0058517633),\n",
       "   ('粮食', 0.0058462718),\n",
       "   ('水平', 0.0057233004)]),\n",
       " (1,\n",
       "  [('人', 0.017320827),\n",
       "   ('元', 0.016894417),\n",
       "   ('生', 0.014773285),\n",
       "   ('村', 0.009787325),\n",
       "   ('没', 0.0073844567),\n",
       "   ('一个', 0.006761656),\n",
       "   ('孩子', 0.0066096354),\n",
       "   ('没有', 0.005522738),\n",
       "   ('老', 0.0055012563),\n",
       "   ('保险', 0.0052648555),\n",
       "   ('难', 0.0048835007),\n",
       "   ('位', 0.00487887),\n",
       "   ('事', 0.0047499374),\n",
       "   ('里', 0.0046997885),\n",
       "   ('想', 0.004697706),\n",
       "   ('两', 0.004553564),\n",
       "   ('乡', 0.004509282),\n",
       "   ('手术', 0.00439104),\n",
       "   ('现在', 0.004368299),\n",
       "   ('来信', 0.0041856687)]),\n",
       " (2,\n",
       "  [('人口', 0.08511596),\n",
       "   ('中国', 0.02021442),\n",
       "   ('发展', 0.016877094),\n",
       "   ('国家', 0.014129243),\n",
       "   ('问题', 0.013848887),\n",
       "   ('世界', 0.012802172),\n",
       "   ('增长', 0.012579851),\n",
       "   ('经济', 0.012055358),\n",
       "   ('社会', 0.012013896),\n",
       "   ('控制', 0.010716626),\n",
       "   ('我国', 0.007219503),\n",
       "   ('亿', 0.0069780736),\n",
       "   ('国际', 0.00561407),\n",
       "   ('政府', 0.0052100006),\n",
       "   ('联合国', 0.004932664),\n",
       "   ('人民', 0.004910308),\n",
       "   ('方面', 0.004583285),\n",
       "   ('会议', 0.004451834),\n",
       "   ('次', 0.0044326033),\n",
       "   ('全国', 0.0044224877)]),\n",
       " (3,\n",
       "  [('节育', 0.014878876),\n",
       "   ('国内', 0.009061935),\n",
       "   ('研究', 0.007976722),\n",
       "   ('手术', 0.00761058),\n",
       "   ('上海', 0.005870988),\n",
       "   ('科学', 0.005524231),\n",
       "   ('医院', 0.005504574),\n",
       "   ('余', 0.005048573),\n",
       "   ('绝育', 0.005040639),\n",
       "   ('组织', 0.0043735895),\n",
       "   ('见', 0.0043567014),\n",
       "   ('项目', 0.0041134343),\n",
       "   ('参观', 0.0039642584),\n",
       "   ('例', 0.0039406205),\n",
       "   ('令', 0.003798617),\n",
       "   ('课题', 0.0037765396),\n",
       "   ('公布', 0.0035548783),\n",
       "   ('专家', 0.003511987),\n",
       "   ('天', 0.0033762497),\n",
       "   ('推广', 0.0032593063)]),\n",
       " (4,\n",
       "  [('计划生育', 0.056841962),\n",
       "   ('工作', 0.030261591),\n",
       "   ('生育', 0.0103269275),\n",
       "   ('群众', 0.010156547),\n",
       "   ('干部', 0.009567713),\n",
       "   ('政策', 0.009403233),\n",
       "   ('部门', 0.0065498417),\n",
       "   ('超生', 0.0064851553),\n",
       "   ('管理', 0.0064599547),\n",
       "   ('计划', 0.0064000343),\n",
       "   ('育龄', 0.006096479),\n",
       "   ('县', 0.0060738157),\n",
       "   ('农村', 0.006048586),\n",
       "   ('抓', 0.005805396),\n",
       "   ('领导', 0.0057712942),\n",
       "   ('胎', 0.0056297025),\n",
       "   ('全国', 0.0055456436),\n",
       "   ('农民', 0.0054740408),\n",
       "   ('宣传', 0.005238812),\n",
       "   ('实行', 0.005061934)])]"
      ]
     },
     "execution_count": 59,
     "metadata": {},
     "output_type": "execute_result"
    }
   ],
   "source": [
    "topics_80 = lda_model_80.show_topics(num_words=20, formatted=False)\n",
    "topics_80"
   ]
  },
  {
   "cell_type": "code",
   "execution_count": 46,
   "metadata": {},
   "outputs": [
    {
     "name": "stdout",
     "output_type": "stream",
     "text": [
      "[(0, '0.016*\"万\" + 0.014*\"生\" + 0.014*\"人\" + 0.011*\"元\" + 0.009*\"户\" + 0.009*\"少\" + 0.009*\"服务\" + 0.008*\"育龄\" + 0.007*\"生育\" + 0.007*\"家\" + 0.007*\"妇女\" + 0.007*\"非典\" + 0.007*\"县\" + 0.006*\"村\" + 0.006*\"名\"'), (1, '0.017*\"开发\" + 0.009*\"博览会\" + 0.009*\"届\" + 0.009*\"产品\" + 0.007*\"军区\" + 0.007*\"基金会\" + 0.005*\"观众\" + 0.005*\"刘炳慧\" + 0.004*\"沈阳\" + 0.004*\"举办\" + 0.004*\"岗位\" + 0.004*\"集\" + 0.004*\"作品\" + 0.004*\"促进会\" + 0.004*\"市场\"'), (2, '0.022*\"技术\" + 0.015*\"流动\" + 0.012*\"健康\" + 0.010*\"人员\" + 0.009*\"项目\" + 0.009*\"家庭\" + 0.008*\"生殖\" + 0.008*\"保障\" + 0.007*\"机制\" + 0.006*\"缺陷\" + 0.006*\"机构\" + 0.006*\"保健\" + 0.006*\"行政\" + 0.005*\"中心\" + 0.005*\"以下\"'), (3, '0.093*\"人口\" + 0.026*\"发展\" + 0.017*\"环境\" + 0.015*\"社会\" + 0.014*\"资源\" + 0.013*\"中国\" + 0.011*\"我国\" + 0.011*\"问题\" + 0.011*\"增长\" + 0.009*\"出生\" + 0.009*\"经济\" + 0.008*\"国家\" + 0.007*\"水平\" + 0.007*\"保护\" + 0.007*\"世界\"'), (4, '0.043*\"计划生育\" + 0.035*\"工作\" + 0.016*\"人口\" + 0.012*\"计生\" + 0.012*\"服务\" + 0.011*\"新\" + 0.010*\"群众\" + 0.009*\"管理\" + 0.009*\"全国\" + 0.007*\"建设\" + 0.007*\"生育\" + 0.007*\"协会\" + 0.006*\"社会\" + 0.006*\"低\" + 0.006*\"国家\"')]\n"
     ]
    }
   ],
   "source": [
    "print(lda_model_90.print_topics(num_words=15))"
   ]
  },
  {
   "cell_type": "code",
   "execution_count": 60,
   "metadata": {},
   "outputs": [
    {
     "data": {
      "text/plain": [
       "[(0,\n",
       "  [('万', 0.016230294),\n",
       "   ('生', 0.014191467),\n",
       "   ('人', 0.014180836),\n",
       "   ('元', 0.011049456),\n",
       "   ('户', 0.009382544),\n",
       "   ('少', 0.008698413),\n",
       "   ('服务', 0.008665824),\n",
       "   ('育龄', 0.00815473),\n",
       "   ('生育', 0.0074274056),\n",
       "   ('家', 0.0072647575),\n",
       "   ('妇女', 0.006956842),\n",
       "   ('非典', 0.0068926727),\n",
       "   ('县', 0.0066304225),\n",
       "   ('村', 0.006341111),\n",
       "   ('名', 0.0060337754),\n",
       "   ('孩子', 0.005750785),\n",
       "   ('农村', 0.0056563043),\n",
       "   ('文化', 0.005449325),\n",
       "   ('快', 0.0054420284),\n",
       "   ('富', 0.0053971433)]),\n",
       " (1,\n",
       "  [('开发', 0.017375177),\n",
       "   ('博览会', 0.009175006),\n",
       "   ('届', 0.009145502),\n",
       "   ('产品', 0.008989526),\n",
       "   ('军区', 0.0074753957),\n",
       "   ('基金会', 0.007342768),\n",
       "   ('观众', 0.004868968),\n",
       "   ('刘炳慧', 0.004504204),\n",
       "   ('沈阳', 0.0043395148),\n",
       "   ('举办', 0.004270537),\n",
       "   ('岗位', 0.004072953),\n",
       "   ('集', 0.0038517327),\n",
       "   ('作品', 0.003736658),\n",
       "   ('促进会', 0.0037139298),\n",
       "   ('市场', 0.0035587084),\n",
       "   ('颁奖', 0.003489665),\n",
       "   ('展会', 0.0034115606),\n",
       "   ('人士', 0.00311248),\n",
       "   ('贫困', 0.002986901),\n",
       "   ('培养', 0.0028160822)]),\n",
       " (2,\n",
       "  [('技术', 0.021873618),\n",
       "   ('流动', 0.014970775),\n",
       "   ('健康', 0.011692379),\n",
       "   ('人员', 0.010258003),\n",
       "   ('项目', 0.009311095),\n",
       "   ('家庭', 0.0086910175),\n",
       "   ('生殖', 0.008280214),\n",
       "   ('保障', 0.0078761345),\n",
       "   ('机制', 0.0071796547),\n",
       "   ('缺陷', 0.0063551185),\n",
       "   ('机构', 0.0059296573),\n",
       "   ('保健', 0.0058606816),\n",
       "   ('行政', 0.0055246963),\n",
       "   ('中心', 0.0051477365),\n",
       "   ('以下', 0.0050222967),\n",
       "   ('信息', 0.004813646),\n",
       "   ('条', 0.004691635),\n",
       "   ('投入', 0.0046523595),\n",
       "   ('子女', 0.004450492),\n",
       "   ('村民', 0.0044177338)]),\n",
       " (3,\n",
       "  [('人口', 0.09306641),\n",
       "   ('发展', 0.026238954),\n",
       "   ('环境', 0.01742645),\n",
       "   ('社会', 0.014541672),\n",
       "   ('资源', 0.014278594),\n",
       "   ('中国', 0.012595522),\n",
       "   ('我国', 0.011413784),\n",
       "   ('问题', 0.011334867),\n",
       "   ('增长', 0.011077385),\n",
       "   ('出生', 0.009358203),\n",
       "   ('经济', 0.009235376),\n",
       "   ('国家', 0.0076483306),\n",
       "   ('水平', 0.0074287513),\n",
       "   ('保护', 0.007409025),\n",
       "   ('世界', 0.0071084956),\n",
       "   ('持续', 0.006910252),\n",
       "   ('控制', 0.006757286),\n",
       "   ('卫生', 0.006384391),\n",
       "   ('国际', 0.0062832367),\n",
       "   ('亿', 0.006213635)]),\n",
       " (4,\n",
       "  [('计划生育', 0.042893995),\n",
       "   ('工作', 0.03543605),\n",
       "   ('人口', 0.015693145),\n",
       "   ('计生', 0.012193312),\n",
       "   ('服务', 0.011703888),\n",
       "   ('新', 0.010592896),\n",
       "   ('群众', 0.009823263),\n",
       "   ('管理', 0.009445827),\n",
       "   ('全国', 0.009269886),\n",
       "   ('建设', 0.007491732),\n",
       "   ('生育', 0.0074355965),\n",
       "   ('协会', 0.0071417573),\n",
       "   ('社会', 0.0062937243),\n",
       "   ('低', 0.0059277345),\n",
       "   ('国家', 0.0058198203),\n",
       "   ('实现', 0.005203583),\n",
       "   ('计生委', 0.0049260454),\n",
       "   ('加强', 0.0048924037),\n",
       "   ('人', 0.004615023),\n",
       "   ('全面', 0.004605523)])]"
      ]
     },
     "execution_count": 60,
     "metadata": {},
     "output_type": "execute_result"
    }
   ],
   "source": [
    "topics_90 = lda_model_90.show_topics(num_words=20, formatted=False)\n",
    "topics_90"
   ]
  },
  {
   "cell_type": "code",
   "execution_count": 35,
   "metadata": {},
   "outputs": [],
   "source": [
    "# construct the function to graph Word Counts of Topic Keywords for all \n",
    "# topics (reference: https://www.machinelearningplus.com/nlp/topic-\n",
    "# modeling-visualization-how-to-present-results-lda-models/)\n",
    "def graph_topic_keyword_count(model, dataframe, era):\n",
    "    '''\n",
    "    Build graphs for the ten topics identified by the lda model based on the\n",
    "    dataframe, each graph present the counts and weights of the keywords of\n",
    "    the topic, save the graphs in the visualization folder.\n",
    "\n",
    "    input: \n",
    "        model: the LDA model that identifies the ten topics based on the dataframe\n",
    "        dataframe: the dataframe used by the LDA model to identify topics\n",
    "        era: (str) the era of the dataframe (e.g. '70s')\n",
    "    '''\n",
    "    \n",
    "    # Get a list of topics with word-probability pairs for each\n",
    "    topics = model.show_topics(formatted=False)\n",
    "    # count how frequently a word appears in the document\n",
    "    data_flat = [w for w_list in dataframe for w in w_list]\n",
    "    counter = Counter(data_flat)\n",
    "    # store the word, topic, word weight and word count into a list\n",
    "    out = []\n",
    "    for i, topic in topics:\n",
    "        for word, weight in topic:\n",
    "            out.append([word, i, weight, counter[word]])\n",
    "    # transform the list into a pandas dataframe\n",
    "    df = pd.DataFrame(out, columns=['word', 'topic_id', 'importance', 'word_count'])        \n",
    "    \n",
    "    # Plot Word Count and Weights of Topic Keywords\n",
    "    fig, axes = plt.subplots(5, 1, figsize=(6,10), sharey=True, dpi=100)\n",
    "    cols = [color for name, color in mcolors.TABLEAU_COLORS.items()]\n",
    "    for i, ax in enumerate(axes.flatten()):\n",
    "        ax.bar(x='word', height=\"word_count\", data=df.loc[df.topic_id==i, :],\\\n",
    "                color=cols[i], width=0.5, alpha=0.3, label='Word Count')\n",
    "        ax_twin = ax.twinx()\n",
    "        ax_twin.bar(x='word', height=\"importance\", data=df.loc[df.topic_id==i, :],\\\n",
    "                    color=cols[i], width=0.2, label='Weights')\n",
    "        ax.set_ylabel('Word Count', color=cols[i])\n",
    "        ax.set_title('Topic: ' + str(i), color=cols[i], fontsize=16)\n",
    "        ax.tick_params(axis='y', left=False)\n",
    "        ax.set_xticklabels(df.loc[df.topic_id==i, 'word'], rotation=30, \\\n",
    "                            horizontalalignment= 'right')\n",
    "        ax.legend(loc='upper left')\n",
    "        ax_twin.legend(loc='upper right')\n",
    "\n",
    "    fig.tight_layout(w_pad=2)    \n",
    "    # save the graphs as files in the visualization folder\n",
    "    plt.savefig('./visualization/{}_topic_keyword_count_importance'.format(era))   "
   ]
  },
  {
   "cell_type": "code",
   "execution_count": 36,
   "metadata": {},
   "outputs": [
    {
     "data": {
      "image/png": "[encoded data removed]",
      "text/plain": [
       "<Figure size 600x1000 with 10 Axes>"
      ]
     },
     "metadata": {
      "needs_background": "light"
     },
     "output_type": "display_data"
    }
   ],
   "source": [
    "# For each decade, plot the graphs of Counts and importance of Topic \n",
    "# Keywords for all topics and save them in the visualization folder\n",
    "graph_topic_keyword_count(lda_model_50, processed_50s, '50s')"
   ]
  },
  {
   "cell_type": "code",
   "execution_count": null,
   "metadata": {},
   "outputs": [],
   "source": [
    "graph_topic_keyword_count(lda_model_70, processed_70s, '70s')"
   ]
  },
  {
   "cell_type": "code",
   "execution_count": null,
   "metadata": {},
   "outputs": [],
   "source": [
    "graph_topic_keyword_count(lda_model_80, processed_80s, '80s')"
   ]
  },
  {
   "cell_type": "code",
   "execution_count": null,
   "metadata": {},
   "outputs": [],
   "source": [
    "graph_topic_keyword_count(lda_model_90, processed_90s, '90s')"
   ]
  },
  {
   "cell_type": "code",
   "execution_count": null,
   "metadata": {},
   "outputs": [],
   "source": [
    "graph_topic_keyword_count(lda_model_before_1979, processed_before_1979, 'pre market reform')"
   ]
  },
  {
   "cell_type": "code",
   "execution_count": 37,
   "metadata": {},
   "outputs": [],
   "source": [
    "# construct the function that Visualize the topics interactively\n",
    "def vis_interative(lda_model, corpus, dictionary, era):\n",
    "    '''\n",
    "    Interactively visualize an LDA topic model with two sets of related and \n",
    "    interactive graphs. The first one presents the prevalence of and relation\n",
    "    between each topic. The second visualization uses a barchart where each \n",
    "    bar represents individual terms that are most useful for interpreting a \n",
    "    selected topic. Save an embedded visualization to a html file.\n",
    "\n",
    "    input:\n",
    "        lda_model: the lda model that identifies the topics\n",
    "        corpus: the Term Document Frequency corpus used to build the mode\n",
    "        dictionary: a dictionary containing word counts of each unique word\n",
    "                    in the dataframe for each decade\n",
    "        era: (str) the era of the dataframe (e.g. '70s')\n",
    "    '''\n",
    "    vis = pyLDAvis.gensim.prepare(lda_model, corpus, dictionary)\n",
    "   \n",
    "    # Save an embedded visualization to file.\n",
    "    # This will produce a self-contained HTML file. Internet access is \n",
    "    # still required for the D3 and LDAvis libraries.\n",
    "    pyLDAvis.save_html(vis, './visualization/{}_topic_interaction_vis.html'.format(era))"
   ]
  },
  {
   "cell_type": "code",
   "execution_count": 40,
   "metadata": {},
   "outputs": [
    {
     "name": "stderr",
     "output_type": "stream",
     "text": [
      "/Users/ditong/anaconda3/lib/python3.6/site-packages/pyLDAvis/_prepare.py:257: FutureWarning: Sorting because non-concatenation axis is not aligned. A future version\n",
      "of pandas will change to not sort by default.\n",
      "\n",
      "To accept the future behavior, pass 'sort=False'.\n",
      "\n",
      "To retain the current behavior and silence the warning, pass 'sort=True'.\n",
      "\n",
      "  return pd.concat([default_term_info] + list(topic_dfs))\n"
     ]
    }
   ],
   "source": [
    "# visualize the lda topic model for each decade interactively.\n",
    "# save the 4 embedded visualizations into 4 html files\n",
    "vis_interative(lda_model_50, corpus_50s, dic_50s, '50s')\n",
    "vis_interative(lda_model_70, corpus_70s, dic_70s, '70s')\n",
    "vis_interative(lda_model_80, corpus_80s, dic_80s, '80s')\n",
    "vis_interative(lda_model_90, corpus_90s, dic_90s, '90s')\n",
    "vis_interative(lda_model_before_1979, corpus_before_1979, dic_before_1979, 'before 1979')"
   ]
  },
  {
   "cell_type": "code",
   "execution_count": null,
   "metadata": {},
   "outputs": [],
   "source": []
  }
 ],
 "metadata": {
  "kernelspec": {
   "display_name": "Python 3",
   "language": "python",
   "name": "python3"
  },
  "language_info": {
   "codemirror_mode": {
    "name": "ipython",
    "version": 3
   },
   "file_extension": ".py",
   "mimetype": "text/x-python",
   "name": "python",
   "nbconvert_exporter": "python",
   "pygments_lexer": "ipython3",
   "version": "3.6.8"
  }
 },
 "nbformat": 4,
 "nbformat_minor": 2
}
