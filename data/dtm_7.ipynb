{
 "cells": [
  {
   "cell_type": "code",
   "execution_count": 8,
   "metadata": {},
   "outputs": [],
   "source": [
    "# import packages\n",
    "import pandas as pd\n",
    "import os\n",
    "import csv\n",
    "import numpy as np\n",
    "import gensim\n",
    "import gensim.corpora as corpora\n",
    "from gensim.models import ldaseqmodel\n",
    "import time\n",
    "from gensim.models.wrappers import DtmModel\n",
    "import pickle\n",
    "from gensim.models.coherencemodel import CoherenceModel\n",
    "import matplotlib.pyplot as plt"
   ]
  },
  {
   "cell_type": "code",
   "execution_count": 9,
   "metadata": {},
   "outputs": [],
   "source": [
    "# read in csv file\n",
    "all_data = pd.read_csv('./all_data.csv', header=None)\n",
    "# add columns\n",
    "all_data.columns = [\"year\", \"title\", \"article\"]\n",
    "# sort by year\n",
    "all_data = all_data.sort_values(by=['year'])\n",
    "# change index\n",
    "new_index = np.arange(0, len(all_data))\n",
    "all_data[\"new_index\"] = new_index\n",
    "all_data = all_data.set_index('new_index')"
   ]
  },
  {
   "cell_type": "code",
   "execution_count": 10,
   "metadata": {},
   "outputs": [],
   "source": [
    "# construct the stop word list\n",
    "stopwords = [line.strip() for line in open(\"stop_words_copy2.txt\",encoding='UTF-8').readlines()]"
   ]
  },
  {
   "cell_type": "code",
   "execution_count": 11,
   "metadata": {},
   "outputs": [],
   "source": [
    "# construct the function that preprocess the text\n",
    "def preprocess(text):\n",
    "    '''\n",
    "    Preprocess the text by tokenizing the string into uni-grams, deleting all \n",
    "    numbers, punctuations and stop words. Store the preprocessed sting into \n",
    "    a list of words\n",
    "    \n",
    "    input: \n",
    "        text: text for preprocessing(str)\n",
    "    output: a list of words\n",
    "    '''\n",
    "    result = []\n",
    "    tokens = gensim.utils.tokenize(text)\n",
    "    tokens_lst = list(tokens)\n",
    "    for token in tokens_lst:\n",
    "        if token not in stopwords:\n",
    "            result.append(token)\n",
    "            \n",
    "    return result"
   ]
  },
  {
   "cell_type": "code",
   "execution_count": 12,
   "metadata": {},
   "outputs": [],
   "source": [
    "# preprocess the data\n",
    "processed_df = all_data['article'].map(preprocess)"
   ]
  },
  {
   "cell_type": "code",
   "execution_count": 13,
   "metadata": {},
   "outputs": [],
   "source": [
    "# prepare Document-Term Matrix for the DTA model \n",
    "# Create Dictionaries for unique word counts of each decade\n",
    "dic_all = corpora.Dictionary(processed_df)\n",
    "\n",
    "# Create Corpus: Term Document Frequency\n",
    "corpus_all = [dic_all.doc2bow(text) for text in processed_df]"
   ]
  },
  {
   "cell_type": "code",
   "execution_count": 14,
   "metadata": {},
   "outputs": [],
   "source": [
    "# set the time slice\n",
    "all_data[all_data['year']==1958]\n",
    "# before 60s: 0-35\n",
    "all_data[all_data['year']==1978]\n",
    "# before 1979: 36-70\n",
    "all_data[all_data['year']==1989]\n",
    "# before 1990: 71-876\n",
    "all_data[all_data['year']==2003]\n",
    "# before 2003: 877-1811\n",
    "time_slice = [71, 806, 935]"
   ]
  },
  {
   "cell_type": "code",
   "execution_count": 8,
   "metadata": {},
   "outputs": [
    {
     "name": "stderr",
     "output_type": "stream",
     "text": [
      "/Users/ditong/anaconda3/lib/python3.6/site-packages/gensim/models/ldaseqmodel.py:230: RuntimeWarning: divide by zero encountered in double_scalars\n",
      "  convergence = np.fabs((bound - old_bound) / old_bound)\n"
     ]
    },
    {
     "name": "stdout",
     "output_type": "stream",
     "text": [
      "7919.340847015381\n"
     ]
    }
   ],
   "source": [
    "# fit the 7-topic model\n",
    "start = time.time()\n",
    "ldaseq_7 = ldaseqmodel.LdaSeqModel(corpus=corpus_all, id2word=dic_all, time_slice=time_slice, \n",
    "                                    num_topics=7, chain_variance=0.1, random_state=100)\n",
    "end = time.time()\n",
    "print(end - start)"
   ]
  },
  {
   "cell_type": "code",
   "execution_count": 9,
   "metadata": {},
   "outputs": [],
   "source": [
    "# save model\n",
    "pickle.dump(ldaseq_7, open(\"ldaseq_model_7.sav\", 'wb'))\n",
    "# check\n",
    "loaded_model_7 = pickle.load(open(\"ldaseq_model_7.sav\", 'rb'))"
   ]
  },
  {
   "cell_type": "code",
   "execution_count": 27,
   "metadata": {},
   "outputs": [
    {
     "name": "stdout",
     "output_type": "stream",
     "text": [
      "U_mass topic coherence\n",
      "DTM Python coherence is -1.2957071265665625\n"
     ]
    }
   ],
   "source": [
    "# calculate coherence matrix\n",
    "topics_dtm_7 = loaded_model_7.dtm_coherence(time=0)\n",
    "cm_DTM_7 = CoherenceModel(topics=topics_dtm_7, corpus=corpus_all, dictionary=dic_all, coherence='u_mass')\n",
    "print (\"U_mass topic coherence\")\n",
    "print (\"DTM Python coherence is\", cm_DTM_7.get_coherence())"
   ]
  },
  {
   "cell_type": "code",
   "execution_count": 23,
   "metadata": {},
   "outputs": [
    {
     "name": "stdout",
     "output_type": "stream",
     "text": [
      "[4.62812977e-05 1.33966663e-01 4.62812977e-05 7.09583781e-03\n",
      " 8.58752374e-01 4.62812977e-05 4.62812977e-05]\n"
     ]
    }
   ],
   "source": [
    "doc_0 = ldaseq_7.doc_topics(0) # check the 558th document in the corpuses topic distribution\n",
    "print (doc_0)"
   ]
  },
  {
   "cell_type": "code",
   "execution_count": 24,
   "metadata": {},
   "outputs": [
    {
     "name": "stdout",
     "output_type": "stream",
     "text": [
      "[1.56968622e-05 1.56968622e-05 8.10891831e-03 1.65481129e-02\n",
      " 8.70874926e-01 1.04420952e-01 1.56968622e-05]\n"
     ]
    }
   ],
   "source": [
    "doc_0 = ldaseq_7.doc_topics(2) # check the 558th document in the corpuses topic distribution\n",
    "print (doc_0)"
   ]
  },
  {
   "cell_type": "code",
   "execution_count": 17,
   "metadata": {},
   "outputs": [],
   "source": [
    "doc_lst = []\n",
    "doc_lst.append(doc_1)\n",
    "doc_lst.append(doc_2)"
   ]
  },
  {
   "cell_type": "code",
   "execution_count": 18,
   "metadata": {},
   "outputs": [
    {
     "data": {
      "text/plain": [
       "[array([1.17550253e-04, 1.17550253e-04, 1.17550253e-04, 1.17550253e-04,\n",
       "        8.64472923e-01, 1.34939326e-01, 1.17550253e-04]),\n",
       " array([1.56968622e-05, 1.56968622e-05, 8.10891831e-03, 1.65481129e-02,\n",
       "        8.70874926e-01, 1.04420952e-01, 1.56968622e-05])]"
      ]
     },
     "execution_count": 18,
     "metadata": {},
     "output_type": "execute_result"
    }
   ],
   "source": [
    "doc_lst"
   ]
  },
  {
   "cell_type": "code",
   "execution_count": 19,
   "metadata": {},
   "outputs": [],
   "source": [
    "trial_df = pd.DataFrame(doc_lst, columns=['t1', 't2', 't3', 't4', 't5', 't6', 't7'])"
   ]
  },
  {
   "cell_type": "code",
   "execution_count": 15,
   "metadata": {},
   "outputs": [],
   "source": [
    "# check\n",
    "loaded_model_7 = pickle.load(open(\"ldaseq_model_7.sav\", 'rb'))"
   ]
  },
  {
   "cell_type": "code",
   "execution_count": 16,
   "metadata": {},
   "outputs": [],
   "source": [
    "doc_topic_7 = []\n",
    "for doc_num in range(len(all_data)):\n",
    "    doc = loaded_model_7.doc_topics(doc_num)\n",
    "    doc_topic_7.append(doc)\n",
    "trial_df = pd.DataFrame(doc_topic_7, columns=['t1', 't2', 't3', 't4', 't5', 't6', 't7'])"
   ]
  },
  {
   "cell_type": "code",
   "execution_count": 17,
   "metadata": {},
   "outputs": [],
   "source": [
    "trial_com_df = pd.concat([all_data, trial_df], axis=1, sort=False)"
   ]
  },
  {
   "cell_type": "code",
   "execution_count": 18,
   "metadata": {},
   "outputs": [],
   "source": [
    "grouped_df = trial_com_df.groupby(['year']).sum().reset_index()"
   ]
  },
  {
   "cell_type": "code",
   "execution_count": 47,
   "metadata": {},
   "outputs": [],
   "source": [
    "year_lst = grouped_df.index.tolist()"
   ]
  },
  {
   "cell_type": "code",
   "execution_count": 19,
   "metadata": {},
   "outputs": [
    {
     "data": {
      "image/png": "[encoded data removed]",
      "text/plain": [
       "<Figure size 864x576 with 1 Axes>"
      ]
     },
     "metadata": {
      "needs_background": "light"
     },
     "output_type": "display_data"
    }
   ],
   "source": [
    "plt.figure(figsize=(12, 8))\n",
    "plt.plot(grouped_df['year'], grouped_df['t1'], label='topic 1')\n",
    "plt.plot(grouped_df['year'], grouped_df['t2'], label='topic 2')\n",
    "plt.plot(grouped_df['year'], grouped_df['t3'], label='topic 3')\n",
    "plt.plot(grouped_df['year'], grouped_df['t4'], label='topic 4')\n",
    "plt.plot(grouped_df['year'], grouped_df['t5'], label='topic 5')\n",
    "plt.plot(grouped_df['year'], grouped_df['t6'], label='topic 6')\n",
    "plt.plot(grouped_df['year'], grouped_df['t7'], label='topic 7')\n",
    "plt.title(\"Topic Evolution\")\n",
    "plt.xlabel(\"Year\")\n",
    "plt.ylabel(\"Topic Probability\")\n",
    "plt.legend(loc='best')\n",
    "plt.show()"
   ]
  },
  {
   "cell_type": "code",
   "execution_count": 20,
   "metadata": {},
   "outputs": [
    {
     "data": {
      "text/plain": [
       "[[('人口', 0.07807467267315431),\n",
       "  ('我国', 0.020664044507026462),\n",
       "  ('问题', 0.020076334925367173),\n",
       "  ('发展', 0.017234139709424272),\n",
       "  ('增长', 0.014542576864075677),\n",
       "  ('国家', 0.013695840744934408),\n",
       "  ('人民', 0.013139181279546453),\n",
       "  ('世界', 0.012085342182386135),\n",
       "  ('经济', 0.011423265324155612),\n",
       "  ('中国', 0.009961251641259116),\n",
       "  ('社会', 0.008673902424738204),\n",
       "  ('会议', 0.008672924135181679),\n",
       "  ('人', 0.00866027652630851),\n",
       "  ('生产', 0.0073236846425224775),\n",
       "  ('政策', 0.006673336207777895),\n",
       "  ('解决', 0.006642455026714116),\n",
       "  ('新', 0.006057960433014245),\n",
       "  ('代表', 0.005409364405136563),\n",
       "  ('速度', 0.005348424980312585),\n",
       "  ('劳动力', 0.0051711715567284)],\n",
       " [('人口', 0.05400993865895189),\n",
       "  ('城市', 0.02503688768247742),\n",
       "  ('计划生育', 0.013973843839796635),\n",
       "  ('人', 0.013880370575843322),\n",
       "  ('工作', 0.011469844678253883),\n",
       "  ('出生', 0.010840285205787378),\n",
       "  ('生育', 0.010543638054943735),\n",
       "  ('万', 0.0076864356201402),\n",
       "  ('流动', 0.0064088727615562256),\n",
       "  ('管理', 0.006272904088667081),\n",
       "  ('岁', 0.006198615233553482),\n",
       "  ('统计', 0.00588179327186072),\n",
       "  ('计划', 0.005471163825734303),\n",
       "  ('普查', 0.0052904595349031235),\n",
       "  ('部门', 0.005017021012954489),\n",
       "  ('妇女', 0.004896635047586698),\n",
       "  ('北京', 0.004838013811725725),\n",
       "  ('调查', 0.004469241647846478),\n",
       "  ('外', 0.004196875022008689),\n",
       "  ('儿童', 0.003964779863983127)],\n",
       " [('手术', 0.029917084202123228),\n",
       "  ('人', 0.011811482936554209),\n",
       "  ('生', 0.011305789265976147),\n",
       "  ('计划生育', 0.010805617420643053),\n",
       "  ('孩子', 0.008780688781962073),\n",
       "  ('工作', 0.007401739841504627),\n",
       "  ('群众', 0.005784468804694071),\n",
       "  ('胎', 0.005503074305045904),\n",
       "  ('干部', 0.004655505979334246),\n",
       "  ('生育', 0.004583158006747857),\n",
       "  ('绝育', 0.004129546413308316),\n",
       "  ('问题', 0.004087854250959795),\n",
       "  ('女', 0.004072434608643377),\n",
       "  ('实行', 0.003932719558126218),\n",
       "  ('结扎', 0.0038452661813667896),\n",
       "  ('女孩', 0.003675520807951995),\n",
       "  ('农村', 0.003523110461850707),\n",
       "  ('儿子', 0.003479525476562515),\n",
       "  ('想', 0.0033909299714594914),\n",
       "  ('村', 0.0033863487317228286)],\n",
       " [('人', 0.03225211972796113),\n",
       "  ('妇女', 0.018086776832256925),\n",
       "  ('斤', 0.013957455065528037),\n",
       "  ('孩子', 0.013880698791426801),\n",
       "  ('增加', 0.013488453540301926),\n",
       "  ('元', 0.012791959469455489),\n",
       "  ('平均', 0.012225943930044213),\n",
       "  ('职工', 0.012100928349352011),\n",
       "  ('生活', 0.011774670509778073),\n",
       "  ('生产', 0.011181630058231161),\n",
       "  ('生', 0.01082048886452293),\n",
       "  ('粮食', 0.010417723442877246),\n",
       "  ('农业', 0.00852535385381787),\n",
       "  ('女工', 0.007924797064069688),\n",
       "  ('每人', 0.0075189319493516255),\n",
       "  ('生育', 0.007465075910578907),\n",
       "  ('亩', 0.0071963955651831515),\n",
       "  ('社员', 0.006494661839693925),\n",
       "  ('家庭', 0.00620629098474768),\n",
       "  ('住', 0.005758304601322417)],\n",
       " [('避孕', 0.011060794472407966),\n",
       "  ('人', 0.00910089940173578),\n",
       "  ('问题', 0.007680999561588447),\n",
       "  ('生育', 0.007082411254264839),\n",
       "  ('节育', 0.0059148848536188505),\n",
       "  ('人民', 0.0054090978363166295),\n",
       "  ('社会主义', 0.005276916468705518),\n",
       "  ('生产', 0.005006706134047966),\n",
       "  ('技术', 0.004922295261786413),\n",
       "  ('进行', 0.0045910314533844174),\n",
       "  ('研究', 0.0045564940390168595),\n",
       "  ('生活', 0.004360559308288959),\n",
       "  ('方法', 0.004330661853633006),\n",
       "  ('工业', 0.004230584971911814),\n",
       "  ('节制', 0.004125824530548021),\n",
       "  ('国家', 0.003991084627429568),\n",
       "  ('农民', 0.003968438349562206),\n",
       "  ('工作', 0.003943118389382917),\n",
       "  ('建设', 0.003941758092076773),\n",
       "  ('科学', 0.003873816113218937)],\n",
       " [('工作', 0.057043688837560426),\n",
       "  ('宣传', 0.030153873918482572),\n",
       "  ('群众', 0.017639980397738588),\n",
       "  ('计划生育', 0.017384742981523697),\n",
       "  ('全国', 0.013325622516966043),\n",
       "  ('人口', 0.01046318810162944),\n",
       "  ('人民', 0.008538802896639799),\n",
       "  ('社会主义', 0.008178018542606146),\n",
       "  ('计划', 0.007940074172281937),\n",
       "  ('加强', 0.007717945890296944),\n",
       "  ('会议', 0.007693909972457442),\n",
       "  ('生育', 0.007574906282173761),\n",
       "  ('进行', 0.006948943899829923),\n",
       "  ('我国', 0.006286624091052492),\n",
       "  ('国家', 0.006278482465240862),\n",
       "  ('领导', 0.0062106185462619335),\n",
       "  ('控制', 0.005821632022670404),\n",
       "  ('要求', 0.005789713089157731),\n",
       "  ('各级', 0.0056929538862570475),\n",
       "  ('增长', 0.005604405131091005)],\n",
       " [('计划生育', 0.04948985676362428),\n",
       "  ('工作', 0.03663034445383516),\n",
       "  ('思想', 0.009985141903704428),\n",
       "  ('晚婚', 0.008762393717102909),\n",
       "  ('群众', 0.008514104047326377),\n",
       "  ('领导', 0.007779768210367292),\n",
       "  ('实行', 0.007186090441018775),\n",
       "  ('革命', 0.006526300676882123),\n",
       "  ('主席', 0.006460689096734251),\n",
       "  ('大队', 0.0063205895907272125),\n",
       "  ('宣传', 0.006316226684497847),\n",
       "  ('青年', 0.006192411314385831),\n",
       "  ('抓', 0.006072694943958537),\n",
       "  ('人口', 0.006052073907726549),\n",
       "  ('开展', 0.0059903609317946025),\n",
       "  ('计划', 0.005914238706470475),\n",
       "  ('新', 0.005839874976609618),\n",
       "  ('措施', 0.00578004339072143),\n",
       "  ('公社', 0.005756476536090221),\n",
       "  ('干部', 0.005634284874000915)]]"
      ]
     },
     "execution_count": 20,
     "metadata": {},
     "output_type": "execute_result"
    }
   ],
   "source": [
    "# print the first period (pre 1979)\n",
    "first_period = loaded_model_7.print_topics(time=0)\n",
    "first_period"
   ]
  },
  {
   "cell_type": "code",
   "execution_count": 21,
   "metadata": {},
   "outputs": [
    {
     "data": {
      "text/plain": [
       "[[('人口', 0.07725142643540507),\n",
       "  ('增长', 0.0185600253871004),\n",
       "  ('发展', 0.015491018729791401),\n",
       "  ('我国', 0.011567511033061445),\n",
       "  ('问题', 0.011507455229249725),\n",
       "  ('中国', 0.01131067289480227),\n",
       "  ('国家', 0.0099297900680622),\n",
       "  ('世界', 0.009552630455746119),\n",
       "  ('控制', 0.009118818153838195),\n",
       "  ('经济', 0.009005944176580374),\n",
       "  ('人', 0.007263802543703053),\n",
       "  ('亿', 0.00659796224356259),\n",
       "  ('社会', 0.0065112632609655805),\n",
       "  ('政策', 0.005535439062113943),\n",
       "  ('增加', 0.005004195619216762),\n",
       "  ('增长率', 0.004700621935164739),\n",
       "  ('联合国', 0.004433503132520619),\n",
       "  ('亚洲', 0.004161696430828734),\n",
       "  ('生产', 0.004120231081372608),\n",
       "  ('会议', 0.003980386673491332)],\n",
       " [('计划生育', 0.024734463510650315),\n",
       "  ('人口', 0.02169382841374447),\n",
       "  ('生育', 0.014757337986719328),\n",
       "  ('人', 0.01307103449619486),\n",
       "  ('万', 0.01119955460877787),\n",
       "  ('工作', 0.010942889639533288),\n",
       "  ('出生', 0.008820676964930527),\n",
       "  ('岁', 0.00845564534056011),\n",
       "  ('流动', 0.0077606159208397215),\n",
       "  ('管理', 0.007584211365469063),\n",
       "  ('妇女', 0.006316461600110603),\n",
       "  ('部门', 0.005384649868747568),\n",
       "  ('统计', 0.005384174566653261),\n",
       "  ('调查', 0.005247180612199333),\n",
       "  ('计划', 0.005205135267625834),\n",
       "  ('育龄', 0.004935821602636118),\n",
       "  ('外', 0.004658189147037279),\n",
       "  ('人员', 0.004423175254335928),\n",
       "  ('文化', 0.004389676617985028),\n",
       "  ('普查', 0.004288172149068858)],\n",
       " [('计划生育', 0.01883529652710929),\n",
       "  ('生', 0.014700228025016209),\n",
       "  ('工作', 0.010719873528247895),\n",
       "  ('人', 0.010391966825282446),\n",
       "  ('胎', 0.009394515142099387),\n",
       "  ('孩子', 0.008425707323036422),\n",
       "  ('干部', 0.008022856994177319),\n",
       "  ('手术', 0.006840792687794903),\n",
       "  ('群众', 0.006689383534121575),\n",
       "  ('超生', 0.005074869659318436),\n",
       "  ('政策', 0.00500947623042712),\n",
       "  ('农村', 0.004774463841150161),\n",
       "  ('元', 0.004773447150629674),\n",
       "  ('女', 0.004609628572554019),\n",
       "  ('农民', 0.004448102869454476),\n",
       "  ('生育', 0.004335217787067381),\n",
       "  ('村', 0.0041175497540497695),\n",
       "  ('问题', 0.004046531210154313),\n",
       "  ('女孩', 0.003990313888499385),\n",
       "  ('夫妇', 0.003702267956981962)],\n",
       " [('人', 0.029590207188660074),\n",
       "  ('元', 0.02008639242272953),\n",
       "  ('粮食', 0.01650544307453789),\n",
       "  ('孩子', 0.015884231027963467),\n",
       "  ('生', 0.015681718332017022),\n",
       "  ('少', 0.015059063705271986),\n",
       "  ('人均', 0.013668538345914754),\n",
       "  ('平均', 0.012834580199243372),\n",
       "  ('耕地', 0.01250979667427793),\n",
       "  ('亩', 0.010510955787452798),\n",
       "  ('生活', 0.010063243623952946),\n",
       "  ('增加', 0.009908404484587411),\n",
       "  ('斤', 0.009505197133225464),\n",
       "  ('万', 0.008388159393510184),\n",
       "  ('算', 0.00807312757897269),\n",
       "  ('减少', 0.007365959649662006),\n",
       "  ('收入', 0.006751125913983545),\n",
       "  ('家庭', 0.0067304979537454275),\n",
       "  ('计划生育', 0.006604480645422356),\n",
       "  ('土地', 0.006271500906037181)],\n",
       " [('节育', 0.015519150703796957),\n",
       "  ('技术', 0.0125346202931463),\n",
       "  ('避孕', 0.012261760253481526),\n",
       "  ('研究', 0.012034020362474595),\n",
       "  ('手术', 0.01079532235223422),\n",
       "  ('妇女', 0.009824287221261843),\n",
       "  ('计划生育', 0.008544541971360446),\n",
       "  ('我国', 0.0057469687978247115),\n",
       "  ('人员', 0.005341484944821636),\n",
       "  ('人', 0.005086550272319021),\n",
       "  ('科学', 0.005066725242131398),\n",
       "  ('方法', 0.004997659037951278),\n",
       "  ('卫生', 0.004876357552849853),\n",
       "  ('进行', 0.004399672050706626),\n",
       "  ('新', 0.004206211679885078),\n",
       "  ('科研', 0.004086425551165871),\n",
       "  ('国家', 0.0035822677425738168),\n",
       "  ('宣传', 0.0035164676698755787),\n",
       "  ('医院', 0.0034675840367620614),\n",
       "  ('种', 0.0034666886643006)],\n",
       " [('计划生育', 0.055780800575522684),\n",
       "  ('工作', 0.036839648091940666),\n",
       "  ('人口', 0.017924230157409404),\n",
       "  ('全国', 0.012555700950792538),\n",
       "  ('我国', 0.01109728049034334),\n",
       "  ('控制', 0.010395461274440035),\n",
       "  ('宣传', 0.009857995360668339),\n",
       "  ('群众', 0.009805934510257545),\n",
       "  ('国家', 0.0072347582266120486),\n",
       "  ('生育', 0.007229436695482416),\n",
       "  ('政策', 0.006719792972369787),\n",
       "  ('人民', 0.006561585369327421),\n",
       "  ('会议', 0.006189362097443433),\n",
       "  ('增长', 0.0054336503627078194),\n",
       "  ('实行', 0.005427010835748511),\n",
       "  ('北京', 0.0050672493317274),\n",
       "  ('教育', 0.005056402287816698),\n",
       "  ('加强', 0.004700661976236789),\n",
       "  ('领导', 0.004564818559776751),\n",
       "  ('计划', 0.004491832562448498)],\n",
       " [('计划生育', 0.038181748995059335),\n",
       "  ('工作', 0.026757768559527575),\n",
       "  ('人口', 0.013358285909680738),\n",
       "  ('干部', 0.010910965738471036),\n",
       "  ('群众', 0.00983271657981749),\n",
       "  ('夫妇', 0.009812057974367358),\n",
       "  ('生', 0.009241780998453051),\n",
       "  ('孩子', 0.00818130249810828),\n",
       "  ('措施', 0.008067944276451251),\n",
       "  ('教育', 0.007601749259633778),\n",
       "  ('生产', 0.007494398120394443),\n",
       "  ('思想', 0.007440702544217642),\n",
       "  ('生育', 0.007262894665383059),\n",
       "  ('实行', 0.0071234821983969625),\n",
       "  ('抓', 0.00711548400805751),\n",
       "  ('增长率', 0.0064057333807932115),\n",
       "  ('县', 0.00636904711354481),\n",
       "  ('宣传', 0.006319294837678778),\n",
       "  ('自然', 0.0058627571161811625),\n",
       "  ('领导', 0.005861465781867019)]]"
      ]
     },
     "execution_count": 21,
     "metadata": {},
     "output_type": "execute_result"
    }
   ],
   "source": [
    "# print the second period\n",
    "# print topics of the second time period (1980s)\n",
    "second_period = loaded_model_7.print_topics(time=1)\n",
    "second_period"
   ]
  },
  {
   "cell_type": "code",
   "execution_count": 23,
   "metadata": {},
   "outputs": [
    {
     "data": {
      "text/plain": [
       "[[('人口', 0.07230205980280645),\n",
       "  ('发展', 0.022030920952458885),\n",
       "  ('增长', 0.014567730432559005),\n",
       "  ('中国', 0.013794719390514089),\n",
       "  ('问题', 0.011138359582381466),\n",
       "  ('经济', 0.010941440091578295),\n",
       "  ('世界', 0.010587344077030538),\n",
       "  ('社会', 0.009986196914080198),\n",
       "  ('我国', 0.009396068003904568),\n",
       "  ('亿', 0.009263534201291541),\n",
       "  ('控制', 0.008162603916930734),\n",
       "  ('国际', 0.0076296316213129945),\n",
       "  ('人', 0.006554988560380804),\n",
       "  ('国家', 0.006514573910136968),\n",
       "  ('水平', 0.005438284276981271),\n",
       "  ('提高', 0.005110812909014424),\n",
       "  ('持续', 0.004504164438773811),\n",
       "  ('环境', 0.004366612496733019),\n",
       "  ('联合国', 0.00429185134574813),\n",
       "  ('资源', 0.004170892627892117)],\n",
       " [('人口', 0.03260990704211993),\n",
       "  ('流动', 0.014820412620969567),\n",
       "  ('计划生育', 0.014817864412387763),\n",
       "  ('管理', 0.012769507921909246),\n",
       "  ('工作', 0.012458454859257506),\n",
       "  ('人', 0.012108348858428378),\n",
       "  ('普查', 0.008817604099005944),\n",
       "  ('生育', 0.008477451107236788),\n",
       "  ('万', 0.008420547949706073),\n",
       "  ('出生', 0.0077084578469213995),\n",
       "  ('服务', 0.006854862750298761),\n",
       "  ('全国', 0.006321534697963112),\n",
       "  ('部门', 0.006086005043739504),\n",
       "  ('计生', 0.005794709518631163),\n",
       "  ('育龄', 0.005385910510558083),\n",
       "  ('统计', 0.0049716274938949295),\n",
       "  ('人员', 0.004908315441047949),\n",
       "  ('进行', 0.004634126863640875),\n",
       "  ('妇女', 0.004172438464959553),\n",
       "  ('情况', 0.0039518978550872035)],\n",
       " [('计划生育', 0.023020764194232105),\n",
       "  ('保险', 0.01696696030517526),\n",
       "  ('生育', 0.012227990031115583),\n",
       "  ('工作', 0.010411303091461967),\n",
       "  ('生', 0.010369866869350373),\n",
       "  ('农村', 0.009672377706630172),\n",
       "  ('孩子', 0.009356978459978302),\n",
       "  ('养老', 0.008565124031304449),\n",
       "  ('人', 0.008153499208250065),\n",
       "  ('胎', 0.007189477273065606),\n",
       "  ('超生', 0.0067003989745586905),\n",
       "  ('元', 0.006653222415842911),\n",
       "  ('政策', 0.006249657442016485),\n",
       "  ('家庭', 0.005121046299066737),\n",
       "  ('女', 0.005119263265277607),\n",
       "  ('夫妇', 0.005077359867372798),\n",
       "  ('农民', 0.005022979333794753),\n",
       "  ('计生', 0.004831347175572244),\n",
       "  ('子女', 0.0048132214283531415),\n",
       "  ('干部', 0.004794344034591474)],\n",
       " [('少', 0.02017588962395754),\n",
       "  ('元', 0.01990002541414322),\n",
       "  ('生', 0.018322363931744783),\n",
       "  ('人', 0.017007976176652617),\n",
       "  ('计划生育', 0.011283728513787818),\n",
       "  ('孩子', 0.010709129446505547),\n",
       "  ('亩', 0.008797898593538425),\n",
       "  ('农民', 0.008760114641859313),\n",
       "  ('生活', 0.0071794058628730836),\n",
       "  ('人均', 0.006577296575172155),\n",
       "  ('富', 0.006524947302651762),\n",
       "  ('妇女', 0.006331682591168924),\n",
       "  ('土地', 0.00631265014062232),\n",
       "  ('工作', 0.006251877777262705),\n",
       "  ('万', 0.00621316916306198),\n",
       "  ('家庭', 0.005273451536950184),\n",
       "  ('快', 0.005167792795967798),\n",
       "  ('群众', 0.005132035295997558),\n",
       "  ('户', 0.005099640935443692),\n",
       "  ('越', 0.004875116385187877)],\n",
       " [('计划生育', 0.03344839206896543),\n",
       "  ('技术', 0.029932933334736865),\n",
       "  ('避孕', 0.019026054006466904),\n",
       "  ('妇女', 0.016162677742575383),\n",
       "  ('节育', 0.014415434898213434),\n",
       "  ('卫生', 0.012364642206556304),\n",
       "  ('研究', 0.011591506315998732),\n",
       "  ('健康', 0.011414601755316679),\n",
       "  ('医疗', 0.007681001174642036),\n",
       "  ('服务', 0.007593358065182869),\n",
       "  ('机构', 0.006735226751662775),\n",
       "  ('手术', 0.006173955932788553),\n",
       "  ('人员', 0.0057012930447367305),\n",
       "  ('生殖', 0.005545582278211687),\n",
       "  ('科研', 0.005219215927407841),\n",
       "  ('科技', 0.004930570753570803),\n",
       "  ('国家', 0.00491445472040071),\n",
       "  ('从事', 0.004887477600671787),\n",
       "  ('科学', 0.0048674802507665815),\n",
       "  ('方法', 0.0044919420653771885)],\n",
       " [('计划生育', 0.03802162905032653),\n",
       "  ('工作', 0.03285881615839135),\n",
       "  ('人口', 0.0239641080968067),\n",
       "  ('发展', 0.009539248029087687),\n",
       "  ('群众', 0.008553221090650966),\n",
       "  ('全国', 0.007658717018639047),\n",
       "  ('环境', 0.007401945510675462),\n",
       "  ('社会', 0.007282889515121425),\n",
       "  ('我国', 0.007087553896070638),\n",
       "  ('建设', 0.006049931013013473),\n",
       "  ('国家', 0.005828730779377807),\n",
       "  ('新', 0.005772854625430752),\n",
       "  ('协会', 0.005669643408661925),\n",
       "  ('服务', 0.005290940078665946),\n",
       "  ('经济', 0.005250612518656399),\n",
       "  ('加强', 0.0050910885451846445),\n",
       "  ('管理', 0.005084629663866452),\n",
       "  ('提高', 0.004977762481061633),\n",
       "  ('问题', 0.004769793139605259),\n",
       "  ('中国', 0.004570216022005371)],\n",
       " [('计划生育', 0.028990731621971074),\n",
       "  ('工作', 0.017139063178917207),\n",
       "  ('人口', 0.012379833507751209),\n",
       "  ('计生', 0.01101715335049774),\n",
       "  ('群众', 0.009620490893877013),\n",
       "  ('万', 0.008857913236630903),\n",
       "  ('教育', 0.007895226117997716),\n",
       "  ('服务', 0.007088152209137029),\n",
       "  ('生', 0.006743456925680312),\n",
       "  ('县', 0.006377283704940117),\n",
       "  ('农村', 0.005606486791517149),\n",
       "  ('经济', 0.005310277533519358),\n",
       "  ('干部', 0.0050528281741416955),\n",
       "  ('协会', 0.004967087342950929),\n",
       "  ('抓', 0.004960360341392374),\n",
       "  ('农民', 0.004942387459718728),\n",
       "  ('少', 0.004817555368151125),\n",
       "  ('扶贫', 0.004809197461410193),\n",
       "  ('生育', 0.004777373659912777),\n",
       "  ('全省', 0.004667998382013499)]]"
      ]
     },
     "execution_count": 23,
     "metadata": {},
     "output_type": "execute_result"
    }
   ],
   "source": [
    "# print topics of the third time period (1990s)\n",
    "third_period = loaded_model_7.print_topics(time=2)\n",
    "third_period"
   ]
  },
  {
   "cell_type": "code",
   "execution_count": null,
   "metadata": {},
   "outputs": [],
   "source": []
  }
 ],
 "metadata": {
  "kernelspec": {
   "display_name": "Python 3",
   "language": "python",
   "name": "python3"
  },
  "language_info": {
   "codemirror_mode": {
    "name": "ipython",
    "version": 3
   },
   "file_extension": ".py",
   "mimetype": "text/x-python",
   "name": "python",
   "nbconvert_exporter": "python",
   "pygments_lexer": "ipython3",
   "version": "3.6.8"
  }
 },
 "nbformat": 4,
 "nbformat_minor": 2
}
